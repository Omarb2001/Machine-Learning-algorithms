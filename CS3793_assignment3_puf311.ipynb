{
  "cells": [
    {
      "attachments": {},
      "cell_type": "markdown",
      "metadata": {
        "id": "9wUL_Fy5qUDI"
      },
      "source": [
        "# UTSA CS 3793: Assignment-3\n",
        "\n",
        "**Badran - Omar - (puf311)**\n",
        "\n",
        "\n",
        "\n",
        "\n"
      ]
    },
    {
      "cell_type": "markdown",
      "metadata": {
        "id": "NM8b9KVYsETT"
      },
      "source": [
        "## Learning Objectives\n",
        "\n",
        "Implement 2 different machine learning algorithms\n",
        "*   Stochastic Gradient Descent\n",
        "*   ID3 Decision Tree\n"
      ]
    },
    {
      "cell_type": "markdown",
      "metadata": {
        "id": "LzR4Ic34zJlT"
      },
      "source": [
        "\n",
        "## Description\n",
        "\n",
        "This assignment is focused on **machine learning**, mainly on the implementation of 2 different algorithms - Stochastic Gradient Descent & ID3 decision tree. \n",
        "The assignment is divided into two sections, each for one unique ML algorithm. \n",
        "\n",
        "The base structure and comments are provided on what should be done. You can use some libraries that help support you for the successful completion of the assignment. However, you **CANNOT** use a complete library that contains the implementation of ML algorithms. You can get pieces of code from online, but please cite the source properly.\n"
      ]
    },
    {
      "cell_type": "markdown",
      "metadata": {
        "id": "vnPfmHAOteOI"
      },
      "source": [
        "##Import Libraries\n",
        "\n",
        "Write all the import statements here. This should be for both algorithm implmentations. As mentioned before, you can not use any premade ML libraries."
      ]
    },
    {
      "cell_type": "code",
      "execution_count": null,
      "metadata": {
        "id": "f9apbZGptej6"
      },
      "outputs": [],
      "source": [
        "# import all required libraries\n",
        "import numpy as np\n",
        "import pandas as pd\n",
        "import copy\n",
        "from numpy import log2 as log\n",
        "eps = np.finfo(float).eps #to account for 0log0\n"
      ]
    },
    {
      "cell_type": "code",
      "execution_count": null,
      "metadata": {
        "id": "fdqXyFZ95P0j"
      },
      "outputs": [],
      "source": [
        "# Assume that the data files are in the following folder -- THIS WILL BE USED BY THE TA\n",
        "basePath = \"/content/drive/My Drive/Colab Notebooks/Artificial Intelligence/Data/\"\n"
      ]
    },
    {
      "cell_type": "markdown",
      "metadata": {
        "id": "YeYRnesWqvLm"
      },
      "source": [
        "#Stochastic Gradient Descent\n",
        "\n",
        "In this section, you will implement the Stochastic Gradient Descent algorithm. The training is for a **binary classification** task i.e. each instance will have a class value of 0 or 1. Also, assume that you are given **all binary-valued attributes** and that there are **no missing values** in the train or test data. \n"
      ]
    },
    {
      "cell_type": "markdown",
      "metadata": {
        "id": "IUVZIK6ctMi4"
      },
      "source": [
        "##Algorithm\n",
        "\n",
        "(40 points)\n",
        "\n",
        "Following are the data files that will be provided to you for the gradient descent algorithm implementation.\n",
        "\n",
        "*   Training file - 'gd-train.dat'\n",
        "*   Testing file - 'gd-test.dat'\n",
        "\n",
        "In these files, only non-space characters are relevant. The first line contains the attribute names. All the other lines are different example instances to be used for the algorithm. Each column holds values of the attributes, whereas the last column holds the class label for that instance.\n",
        "\n",
        "Write the code in the following code block, structure is provided. Instructions on the steps to follow are provided as comments.\n",
        "\n"
      ]
    },
    {
      "cell_type": "code",
      "execution_count": null,
      "metadata": {
        "id": "2XoSqVJG5FkG"
      },
      "outputs": [],
      "source": [
        "# Data file name variables\n",
        "train = basePath + \"gd-train.dat\"\n",
        "test = basePath + \"gd-test.dat\"\n"
      ]
    },
    {
      "cell_type": "code",
      "execution_count": null,
      "metadata": {
        "id": "l73PTZtCPdxj"
      },
      "outputs": [],
      "source": [
        "# Read the training and testing data files\n",
        "train_data = pd.read_csv(train, sep = \"\\s+\")\n",
        "test_data = pd.read_csv(test, sep = \"\\s+\")"
      ]
    },
    {
      "cell_type": "code",
      "execution_count": null,
      "metadata": {
        "id": "VN3FC2qcPfcR"
      },
      "outputs": [],
      "source": [
        "# Activation Function - implement Sigmoid\n",
        "def activation_function(h):\n",
        "    # given 'h' compute and return 'z' based on the activation function implemented\n",
        "    z = 1 / (1 + np.exp(-h))\n",
        "    return z"
      ]
    },
    {
      "cell_type": "code",
      "execution_count": null,
      "metadata": {
        "id": "V5njAQvmPmOC"
      },
      "outputs": [],
      "source": [
        "def train(train_data, learning_rate):\n",
        "    weights = [0,0,0,0,0,0,0,0,0,0,0,0,0]\n",
        "    for row in train_data.values:\n",
        "        x = [row[0],row[1],row[2],row[3],row[4],row[5],row[6],row[7],row[8],row[9],row[10],row[11],row[12]]\n",
        "        y = float(row[13])\n",
        "        h = 0\n",
        "        for i in range(0,13):\n",
        "            h += float(weights[i])*float(x[i])\n",
        "        z = float(activation_function(h))\n",
        "        for i in range(0,13):\n",
        "            weights[i] += float(learning_rate*(y-z))*float(x[i])\n",
        "    return weights"
      ]
    },
    {
      "cell_type": "code",
      "execution_count": null,
      "metadata": {
        "id": "Gx98kNxDPq5B"
      },
      "outputs": [],
      "source": [
        "def test(test_data, weights, threshold):\n",
        "    accuracy = 0\n",
        "    miss = 0\n",
        "    for row in test_data.values:\n",
        "        x = [row[0], row[1], row[2], row[3], row[4], row[5], row[6], row[7], row[8], row[9], row[10], row[11], row[12]]\n",
        "        y = float(row[13])\n",
        "        h = 0\n",
        "        for i in range(0, 13):\n",
        "            h += float(weights[i])*float(x[i])\n",
        "        z = activation_function(h)\n",
        "        if z >= threshold:\n",
        "            z = float(1)\n",
        "        else:\n",
        "            z = float(0)\n",
        "        diffError = abs(y-z)/1\n",
        "        miss += diffError\n",
        "    accuracy = ((len(test_data.values)-miss)/len(test_data.values))\n",
        "    return accuracy"
      ]
    },
    {
      "cell_type": "code",
      "execution_count": null,
      "metadata": {
        "id": "_5B6IG0APxH4"
      },
      "outputs": [],
      "source": [
        "def gradient_descent(df_train, df_test, learning_rate, threshold):\n",
        "    weights = train(df_train, learning_rate)\n",
        "    trainAccuracy = test(df_train, weights, threshold)\n",
        "    testAccuracy = test(df_test, weights, threshold)\n",
        "    return (trainAccuracy, testAccuracy)"
      ]
    },
    {
      "cell_type": "code",
      "execution_count": null,
      "metadata": {
        "id": "MB_b5ButP3w3"
      },
      "outputs": [],
      "source": [
        "# Threshold of 0.5 will be used to classify the instance for the test. If the value is >= 0.5, classify as 1 or else 0.\n",
        "threshold = 0.5\n"
      ]
    },
    {
      "cell_type": "code",
      "execution_count": null,
      "metadata": {
        "id": "YdPwgSBOtb1P"
      },
      "outputs": [],
      "source": [
        "# Main algorithm loop\n",
        "print(\"Gradient Descent:\\n\\n\")\n",
        "learning_rate = 0.05\n",
        "while learning_rate <=1.001:\n",
        "    trainA, testA = gradient_descent(train_data, test_data, learning_rate, threshold)\n",
        "    print(\"Accuracy for LR of \" + str(learning_rate) + \" on Training set = \" + str(trainA*100) + \" %.\", end = \" \")\n",
        "    print(\"\\nAccuracy for LR of \" + str(learning_rate) + \" on Testing set = \" + str(testA*100) + \" %\\n\\n\")\n",
        "    learning_rate += 0.01"
      ]
    },
    {
      "cell_type": "markdown",
      "metadata": {
        "id": "lYxmgcnes9cS"
      },
      "source": [
        "##Extra Credit - Accuracy Plots\n",
        "\n",
        "(05 points)\n",
        "\n",
        "Use the above accuracy results on the training and testing data and write code to plot the graphs as mentioned in the code block below.\n",
        "\n"
      ]
    },
    {
      "cell_type": "code",
      "execution_count": null,
      "metadata": {
        "id": "fbBNakSDq0Wv"
      },
      "outputs": [],
      "source": [
        "# Plot the graphs for accuracy results.\n",
        "# There will be 2 graphs - one for training data and the other for testing data\n",
        "# For each graph,\n",
        "    # X-axis will be the learning rate going from 0.05-1 in increments on 0.05\n",
        "    # Y-axis will be the accuracy values at the selected learning rate.\n",
        "\n"
      ]
    },
    {
      "cell_type": "markdown",
      "metadata": {
        "id": "onnqJYTEq0l3"
      },
      "source": [
        "#ID3 Decision Tree\n",
        "\n",
        "In this section, you will implement the ID3 Decision Tree algorithm. The training is for a **binary classification** task i.e. each instance will have a class value of 0 or 1. Also, assume that there are **no missing values** in the train or test data. \n"
      ]
    },
    {
      "cell_type": "markdown",
      "metadata": {
        "id": "eDNztBkTtRPw"
      },
      "source": [
        "## Algorithm\n",
        "\n",
        "(85 points)\n",
        "\n",
        "Following are the data files that will be provided to you for the ID3 algorithm implementation.\n",
        "\n",
        "*   Training file - 'id3-train.dat'\n",
        "*   Testing file - 'id3-test.dat'\n",
        "\n",
        "In these files, only non-space characters are relevant. The first line contains the attribute names. All the other lines are example instances to be used for the algorithm. Each column holds values of the attributes, whereas the last column holds the class label for that instance.\n",
        "\n",
        "In a decision tree, if you reach a leaf node but still have examples that belong to different classes, then choose the most frequent class (among the instances at the leaf node). If you reach a leaf node in the decision tree and have no examples left or the examples are equally split among multiple classes, then choose the class that is most frequent in the entire training set. You do not need to implement pruning. Also, don’t forget to use logarithm base 2 when computing entropy and set (0 log 0) to 0.\n",
        "\n",
        "Write the code in the following code block, structure is provided. Instructions on the steps to follow are provided as comments. The code should output the following 3 things:\n",
        "\n",
        "*   Print the Decision Tree created, in the following example format:\n",
        "\n",
        "    ```\n",
        "    attr1 = 0 :\n",
        "        attr2 = 0 :\n",
        "            attr3 = 0 : 1 -- 4\n",
        "            attr3 = 1 : 0 -- 9\n",
        "        attr2 = 1 :\n",
        "            attr4 = 0 : 0 -- 2\n",
        "            attr4 = 1 : 1 -- 10\n",
        "    attr1 = 1 :\n",
        "        attr2 = 1 : 1 -- 17\n",
        "\n",
        "    ```\n",
        "\n",
        "*   Accuracy on the Training data = x %\n",
        "*   Accuracy on the Test data = x %\n",
        "\n",
        "\n",
        "\n"
      ]
    },
    {
      "cell_type": "code",
      "execution_count": null,
      "metadata": {
        "id": "wTLz1lGYQJKS"
      },
      "outputs": [],
      "source": [
        "# Data file name variables\n",
        "print(\"Decision Tree part: \\n\\n\")\n",
        "\n",
        "\n",
        "train = basePath + \"id3-train.dat\"\n",
        "test = basePath + \"id3-test.dat\""
      ]
    },
    {
      "cell_type": "code",
      "execution_count": null,
      "metadata": {
        "id": "HwHYC6xjQP5D"
      },
      "outputs": [],
      "source": [
        "def find_total_entropy(train_dataID): #find entropy in class\n",
        "    Class = train_dataID.keys()[-1]\n",
        "    entropy = 0\n",
        "    values = train_dataID[Class].unique()\n",
        "    for value in values:\n",
        "        fraction = train_dataID[Class].value_counts()[value]/len(train_dataID[Class])\n",
        "        entropy += -fraction*np.log2(fraction)\n",
        "    return entropy\n",
        "\n",
        "def find_entropy_of_attribute(train_dataID, attribute): #find entorpy for each attribute in the table\n",
        "    Class = train_dataID.keys()[-1]\n",
        "    target_variables = train_dataID[Class].unique() #get unique answers from class\n",
        "\n",
        "    variables = train_dataID[attribute].unique() #get unique values from the attribute\n",
        "\n",
        "    entropy2 = 0\n",
        "\n",
        "    for variable in variables:\n",
        "        entropy = 0\n",
        "        for target_variable in target_variables:\n",
        "            num = len(train_dataID[attribute][train_dataID[attribute] == variable][train_dataID[Class] == target_variable]) #number of instances where the value of the attribute is = variable AND\n",
        "            # class attribute value = target_variable\n",
        "            den = len(train_dataID[attribute][train_dataID[attribute] == variable]) #number of instances where the value of the attribute is = variable\n",
        "            fraction = num / (den + eps)\n",
        "            entropy += -fraction * log(fraction + eps)\n",
        "        fraction2 = den / len(train_dataID)\n",
        "        entropy2 += -fraction2 * entropy\n",
        "    return abs(entropy2)\n",
        "\n",
        "def find_best_attribute(train_dataID):\n",
        "    IG = []\n",
        "    for key in train_dataID.keys()[:-1]:\n",
        "        IG.append(find_total_entropy(train_dataID)-find_entropy_of_attribute(train_dataID,key))\n",
        "    return train_dataID.keys()[:-1][np.argmax(IG)]\n",
        "\n",
        "def get_subtable(train_dataID, node,value):\n",
        "  return train_dataID[train_dataID[node] == value].reset_index(drop=True)\n",
        "\n",
        "\n",
        "def ID3(train_dataID, train_dataID2, visited = set(), tree = None):\n",
        "    Class = train_dataID.keys()[-1]\n",
        "    node = find_best_attribute(train_dataID)\n",
        "    visited.add(node)\n",
        "    newvisited = copy.deepcopy(visited)\n",
        "    attValue = np.unique(train_dataID[node])\n",
        "    if tree is None:\n",
        "        tree = {}\n",
        "        tree[node] = {}\n",
        "    for value in attValue:\n",
        "        subtable = get_subtable(train_dataID, node, value)\n",
        "        clValue, counts = np.unique(subtable[Class], return_counts=True)\n",
        "        if len(counts) == 0 or np.all(counts == counts[0]):\n",
        "            clValue2, counts2 = np.unique(train_dataID2[Class], return_counts=True)\n",
        "            tree[node][value] = clValue[np.argmax(counts2)]\n",
        "        elif len(counts) == 1:\n",
        "            tree[node][value] = clValue[0]\n",
        "        elif len(visited) >= len(train_dataID.keys()[:-1]):\n",
        "            tree[node][value] = clValue[np.argmax(counts)]\n",
        "        else:\n",
        "            tree[node][value] = ID3(subtable, train_dataID2, newvisited)  # Calling the function recursively\n",
        "\n",
        "    return tree\n",
        "\n",
        "def printTree(dTree, indents = 0):\n",
        "    if type(dTree) == dict:\n",
        "        print()\n",
        "        keys = list(dTree.keys())\n",
        "        for i in range(0, len(keys)):\n",
        "            valuesDict = dTree[keys[i]]\n",
        "            keys2 = list(valuesDict.keys())\n",
        "            for j in range(0, len(keys2)):\n",
        "                print(\" \"*indents + str(keys[i]) + \" = \", end = \"\")\n",
        "                print(str(keys2[j]) + \":\", end = \"\" )\n",
        "                printTree(valuesDict[keys2[j]], indents + 2)\n",
        "    else:\n",
        "        print(\" \" + str(dTree) + \" -- \")\n",
        "\n",
        "def guess_answer(x, y, tree, attributes):\n",
        "    if type(tree) == dict:\n",
        "        keys = list(tree.keys())\n",
        "        for i in range(0, len(keys)):\n",
        "            xvalue = x[attributes.index(keys[i])]\n",
        "            valuesDict = tree[keys[i]]\n",
        "            keys2 = list(valuesDict.keys())\n",
        "            for j in range(0, len(keys2)):\n",
        "                if (keys2[j] == xvalue):\n",
        "                    return guess_answer(x, y, valuesDict[keys2[j]], attributes)\n",
        "    else:\n",
        "        if(tree==y):\n",
        "            return 1\n",
        "        else:\n",
        "            return 0"
      ]
    },
    {
      "cell_type": "code",
      "execution_count": null,
      "metadata": {
        "id": "XELGzRDftS77"
      },
      "outputs": [],
      "source": [
        "train_dataID = pd.read_csv(train, sep = \"\\s+\")\n",
        "test_dataID = pd.read_csv(test, sep = \"\\s+\")\n",
        "visited = set()\n",
        "dTree = ID3(train_dataID, train_dataID, visited)\n",
        "\n",
        "print(\"The decision tree:\")\n",
        "printTree(dTree)\n",
        "print()\n",
        "\n",
        "train_len = len(train_dataID.values)\n",
        "test_len = len(test_dataID.values)\n",
        "attributes_train = list(train_dataID.columns)\n",
        "attributes_test = list(test_dataID.columns)\n",
        "\n",
        "correct = 0\n",
        "for row in train_dataID.values :\n",
        "    x = row[:-1]\n",
        "    y = row[-1]\n",
        "    correct += guess_answer(x, y, dTree, attributes_train)\n",
        "\n",
        "accuracy = float(correct/train_len)*100\n",
        "print(\"Accuracy on the Training data = \" + str(accuracy) + \" %\")\n",
        "print()\n",
        "\n",
        "correct = 0\n",
        "for row in test_dataID.values:\n",
        "    x = row[:-1]\n",
        "    y = row[-1]\n",
        "    correct += guess_answer(x, y, dTree, attributes_test)\n",
        "accuracy = float(correct/test_len)*100\n",
        "print(\"Accuracy on the test data = \" + str(accuracy) + \" %\")"
      ]
    },
    {
      "cell_type": "markdown",
      "metadata": {
        "id": "YvYowzzA4vcd"
      },
      "source": [
        "##Extra Credit - Learning Curve\n",
        "\n",
        "(05 points)\n",
        "\n",
        "Instead of taking the entire training data (all 800 instances), loop through to select 'x' instances in the increments of 40 (i.e. 40, 80, 120, and so on). For each selected number 'x', randomly pick the example instances from the training data and call the ID3 function to create the decision tree. Calculate the accuracy of the created ID3 tree on the Test data file. Plot the corresponding graph, aka Learning Curve.\n"
      ]
    },
    {
      "cell_type": "code",
      "execution_count": null,
      "metadata": {
        "id": "FYSK99zp5a7H"
      },
      "outputs": [],
      "source": [
        "# Loop through to select the number of instances 'x' in increments of 40\n",
        "# For each 'x',\n",
        "    # Randomly select 'x' instances\n",
        "    # Create the ID3 decision tree using those instances\n",
        "    # Calculate the accuracy of the ID3 tree created on the Test data\n",
        "\n",
        "# Plot the learning curve using the accuracy values\n",
        "    # X-axis will be the number of training instances used for creating the tree\n",
        "    # Y-axis will be the accuracy in % on the Test data\n",
        "\n"
      ]
    },
    {
      "cell_type": "markdown",
      "metadata": {
        "id": "YJSFgNBQrhQU"
      },
      "source": [
        "#Submission Instructions\n",
        "\n",
        "1.   Complete all tasks above - **File MUST contain the output for ALL cells**\n",
        "2.   Export this notebook as .ipynb\n",
        "      (File > Download as ipynb)\n",
        "3.   Upload the .ipynb file on Blackboard"
      ]
    },
    {
      "cell_type": "markdown",
      "metadata": {
        "id": "0lGvLE9H6ptL"
      },
      "source": [
        "##Rubric\n",
        "\n",
        "*   (40 points) Gradient Descent Algorithm\n",
        "*   (05 points) Extra Credit - GD Accuracy Plots\n",
        "*   (85 points) ID3 Algorithm\n",
        "*   (05 points) Extra Credit - ID3 Learning Curve\n"
      ]
    }
  ],
  "metadata": {
    "colab": {
      "provenance": [],
      "toc_visible": true
    },
    "kernelspec": {
      "display_name": "Python 3",
      "name": "python3"
    },
    "language_info": {
      "codemirror_mode": {
        "name": "ipython",
        "version": 3
      },
      "file_extension": ".py",
      "mimetype": "text/x-python",
      "name": "python",
      "nbconvert_exporter": "python",
      "pygments_lexer": "ipython3",
      "version": "3.12.5"
    }
  },
  "nbformat": 4,
  "nbformat_minor": 0
}
